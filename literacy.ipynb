{
 "cells": [
  {
   "cell_type": "markdown",
   "metadata": {},
   "source": [
    "# Literacy Around the World\n",
    "\n",
    "We want you to create a notebook and:  \n",
    "- Load the data in the CSV List the columns Get the number of rows & columns \n",
    "- Describe the data - what's the best and worse country/year combination \n",
    "- Filter the data for the year 1980 and order the result by decreasing value \n",
    "- Group the data by year - what's the mean value for year 1980? What's the difference with 2000?"
   ]
  },
  {
   "cell_type": "code",
   "execution_count": 115,
   "metadata": {},
   "outputs": [
    {
     "name": "stdout",
     "output_type": "stream",
     "text": [
      "Requirement already satisfied: pandas in c:\\users\\neal\\anaconda3\\lib\\site-packages (1.2.4)\n",
      "Requirement already satisfied: pytz>=2017.3 in c:\\users\\neal\\anaconda3\\lib\\site-packages (from pandas) (2021.1)\n",
      "Requirement already satisfied: python-dateutil>=2.7.3 in c:\\users\\neal\\anaconda3\\lib\\site-packages (from pandas) (2.8.1)\n",
      "Requirement already satisfied: numpy>=1.16.5 in c:\\users\\neal\\anaconda3\\lib\\site-packages (from pandas) (1.20.1)\n",
      "Requirement already satisfied: six>=1.5 in c:\\users\\neal\\anaconda3\\lib\\site-packages (from python-dateutil>=2.7.3->pandas) (1.15.0)\n"
     ]
    }
   ],
   "source": [
    "! pip install pandas"
   ]
  },
  {
   "cell_type": "code",
   "execution_count": 116,
   "metadata": {},
   "outputs": [],
   "source": [
    "import pandas as pd"
   ]
  },
  {
   "cell_type": "markdown",
   "metadata": {},
   "source": [
    "## Import CSV"
   ]
  },
  {
   "cell_type": "code",
   "execution_count": 117,
   "metadata": {},
   "outputs": [],
   "source": [
    "literacy_df = pd.read_csv('data/literacy.csv',\\\n",
    "    encoding='ISO-8859-1')"
   ]
  },
  {
   "cell_type": "markdown",
   "metadata": {},
   "source": [
    "# List of columns and Get the number of rows and columns"
   ]
  },
  {
   "cell_type": "code",
   "execution_count": 118,
   "metadata": {},
   "outputs": [
    {
     "name": "stdout",
     "output_type": "stream",
     "text": [
      "Index(['Entity', 'Code', 'Year',\n",
      "       'Youth literacy rate, population 15-24 years, male (%)',\n",
      "       'Youth literacy rate, population 15-24 years, female (%)',\n",
      "       'Total population (Gapminder, HYDE & UN)', 'Continent'],\n",
      "      dtype='object')\n",
      "Rows:56255, Columns:7\n"
     ]
    }
   ],
   "source": [
    "print(literacy_df.columns)\n",
    "print(f'Rows:{literacy_df.shape[0]}, Columns:{literacy_df.shape[1]}')"
   ]
  },
  {
   "cell_type": "markdown",
   "metadata": {},
   "source": [
    "# Best female literacy rate per country/year combo"
   ]
  },
  {
   "cell_type": "code",
   "execution_count": 119,
   "metadata": {},
   "outputs": [
    {
     "name": "stdout",
     "output_type": "stream",
     "text": [
      "Best female countries/year combo is:\n",
      "Entity      Year\n",
      "Uzbekistan  2014    100.0\n",
      "Andorra     2015    100.0\n",
      "Uzbekistan  2015    100.0\n",
      "Azerbaijan  2007    100.0\n",
      "Uzbekistan  2013    100.0\n",
      "Greenland   2015    100.0\n",
      "Andorra     2016    100.0\n",
      "Name: Youth literacy rate, population 15-24 years, female (%), dtype: float64\n"
     ]
    }
   ],
   "source": [
    "best_f_rate = literacy_df.groupby([\"Entity\", \"Year\"])[\\\n",
    "    \"Youth literacy rate, population 15-24 years, female (%)\"\\\n",
    "            ]\\\n",
    "                .max().sort_values(\\\n",
    "                        ascending=False)\n",
    "print(f'Best female countries/year combo is:\\n{best_f_rate.head(7)}')"
   ]
  },
  {
   "cell_type": "markdown",
   "metadata": {},
   "source": [
    "# Best male literacy rate per country/year combo"
   ]
  },
  {
   "cell_type": "code",
   "execution_count": 120,
   "metadata": {},
   "outputs": [
    {
     "name": "stdout",
     "output_type": "stream",
     "text": [
      "Best male countries/year combo is:\n",
      "Entity      Year\n",
      "Andorra     2015    100.0\n",
      "Greenland   2015    100.0\n",
      "Uzbekistan  2015    100.0\n",
      "            2014    100.0\n",
      "            2013    100.0\n",
      "Andorra     2016    100.0\n",
      "Azerbaijan  2007    100.0\n",
      "Name: Youth literacy rate, population 15-24 years, male (%), dtype: float64\n"
     ]
    }
   ],
   "source": [
    "best_m_rate = literacy_df.groupby([\"Entity\", \"Year\"])[\\\n",
    "    \"Youth literacy rate, population 15-24 years, male (%)\"\\\n",
    "            ]\\\n",
    "                .max().sort_values(\\\n",
    "                        ascending=False)\n",
    "print(f'Best male countries/year combo is:\\n{best_m_rate.head(7)}')"
   ]
  },
  {
   "cell_type": "markdown",
   "metadata": {},
   "source": [
    "# Worst female literacy rate per country/year combo"
   ]
  },
  {
   "cell_type": "code",
   "execution_count": 121,
   "metadata": {},
   "outputs": [
    {
     "name": "stdout",
     "output_type": "stream",
     "text": [
      "Worst female countries/year combo is:\n",
      "Entity        Year\n",
      "Burkina Faso  1975    6.66406\n",
      "Name: Youth literacy rate, population 15-24 years, female (%), dtype: float64\n"
     ]
    }
   ],
   "source": [
    "worst_f_rate = literacy_df.groupby([\"Entity\", \"Year\"])[\\\n",
    "    \"Youth literacy rate, population 15-24 years, female (%)\"\\\n",
    "            ]\\\n",
    "                .min().sort_values(\\\n",
    "                        ascending=True)\n",
    "print(f'Worst female countries/year combo is:\\n{worst_f_rate.head(1)}')"
   ]
  },
  {
   "cell_type": "markdown",
   "metadata": {},
   "source": [
    "# Worst male literacy rate per country/year combo"
   ]
  },
  {
   "cell_type": "code",
   "execution_count": 122,
   "metadata": {},
   "outputs": [
    {
     "name": "stdout",
     "output_type": "stream",
     "text": [
      "Worst male countries/year combo is:\n",
      "Entity        Year\n",
      "Burkina Faso  1975    22.377131\n",
      "Name: Youth literacy rate, population 15-24 years, male (%), dtype: float64\n"
     ]
    }
   ],
   "source": [
    "worst_m_rate = literacy_df.groupby([\"Entity\", \"Year\"])[\\\n",
    "    \"Youth literacy rate, population 15-24 years, male (%)\"\\\n",
    "            ]\\\n",
    "                .min().sort_values(\\\n",
    "                        ascending=True)\n",
    "print(f'Worst male countries/year combo is:\\n{worst_m_rate.head(1)}')"
   ]
  },
  {
   "cell_type": "markdown",
   "metadata": {},
   "source": [
    "# filter 1980 and order by decreasing value"
   ]
  },
  {
   "cell_type": "code",
   "execution_count": 123,
   "metadata": {},
   "outputs": [
    {
     "data": {
      "text/html": [
       "<div>\n",
       "<style scoped>\n",
       "    .dataframe tbody tr th:only-of-type {\n",
       "        vertical-align: middle;\n",
       "    }\n",
       "\n",
       "    .dataframe tbody tr th {\n",
       "        vertical-align: top;\n",
       "    }\n",
       "\n",
       "    .dataframe thead th {\n",
       "        text-align: right;\n",
       "    }\n",
       "</style>\n",
       "<table border=\"1\" class=\"dataframe\">\n",
       "  <thead>\n",
       "    <tr style=\"text-align: right;\">\n",
       "      <th></th>\n",
       "      <th>Entity</th>\n",
       "      <th>Code</th>\n",
       "      <th>Year</th>\n",
       "      <th>Youth literacy rate, population 15-24 years, male (%)</th>\n",
       "      <th>Youth literacy rate, population 15-24 years, female (%)</th>\n",
       "      <th>Total population (Gapminder, HYDE &amp; UN)</th>\n",
       "      <th>Continent</th>\n",
       "    </tr>\n",
       "  </thead>\n",
       "  <tbody>\n",
       "    <tr>\n",
       "      <th>219</th>\n",
       "      <td>Afghanistan</td>\n",
       "      <td>AFG</td>\n",
       "      <td>1980</td>\n",
       "      <td>NaN</td>\n",
       "      <td>NaN</td>\n",
       "      <td>1.335650e+07</td>\n",
       "      <td>NaN</td>\n",
       "    </tr>\n",
       "    <tr>\n",
       "      <th>477</th>\n",
       "      <td>Africa</td>\n",
       "      <td>NaN</td>\n",
       "      <td>1980</td>\n",
       "      <td>NaN</td>\n",
       "      <td>NaN</td>\n",
       "      <td>4.763862e+08</td>\n",
       "      <td>NaN</td>\n",
       "    </tr>\n",
       "    <tr>\n",
       "      <th>741</th>\n",
       "      <td>Albania</td>\n",
       "      <td>ALB</td>\n",
       "      <td>1980</td>\n",
       "      <td>NaN</td>\n",
       "      <td>NaN</td>\n",
       "      <td>2.682697e+06</td>\n",
       "      <td>NaN</td>\n",
       "    </tr>\n",
       "    <tr>\n",
       "      <th>1000</th>\n",
       "      <td>Algeria</td>\n",
       "      <td>DZA</td>\n",
       "      <td>1980</td>\n",
       "      <td>NaN</td>\n",
       "      <td>NaN</td>\n",
       "      <td>1.922166e+07</td>\n",
       "      <td>NaN</td>\n",
       "    </tr>\n",
       "    <tr>\n",
       "      <th>1038</th>\n",
       "      <td>American Samoa</td>\n",
       "      <td>ASM</td>\n",
       "      <td>1980</td>\n",
       "      <td>97.888618</td>\n",
       "      <td>97.443649</td>\n",
       "      <td>3.264800e+04</td>\n",
       "      <td>NaN</td>\n",
       "    </tr>\n",
       "    <tr>\n",
       "      <th>...</th>\n",
       "      <td>...</td>\n",
       "      <td>...</td>\n",
       "      <td>...</td>\n",
       "      <td>...</td>\n",
       "      <td>...</td>\n",
       "      <td>...</td>\n",
       "      <td>...</td>\n",
       "    </tr>\n",
       "    <tr>\n",
       "      <th>55171</th>\n",
       "      <td>Western Sahara</td>\n",
       "      <td>ESH</td>\n",
       "      <td>1980</td>\n",
       "      <td>NaN</td>\n",
       "      <td>NaN</td>\n",
       "      <td>1.508600e+05</td>\n",
       "      <td>NaN</td>\n",
       "    </tr>\n",
       "    <tr>\n",
       "      <th>55460</th>\n",
       "      <td>World</td>\n",
       "      <td>OWID_WRL</td>\n",
       "      <td>1980</td>\n",
       "      <td>NaN</td>\n",
       "      <td>NaN</td>\n",
       "      <td>4.458275e+09</td>\n",
       "      <td>NaN</td>\n",
       "    </tr>\n",
       "    <tr>\n",
       "      <th>55691</th>\n",
       "      <td>Yemen</td>\n",
       "      <td>YEM</td>\n",
       "      <td>1980</td>\n",
       "      <td>NaN</td>\n",
       "      <td>NaN</td>\n",
       "      <td>7.941903e+06</td>\n",
       "      <td>NaN</td>\n",
       "    </tr>\n",
       "    <tr>\n",
       "      <th>55957</th>\n",
       "      <td>Zambia</td>\n",
       "      <td>ZMB</td>\n",
       "      <td>1980</td>\n",
       "      <td>NaN</td>\n",
       "      <td>NaN</td>\n",
       "      <td>5.851818e+06</td>\n",
       "      <td>NaN</td>\n",
       "    </tr>\n",
       "    <tr>\n",
       "      <th>56216</th>\n",
       "      <td>Zimbabwe</td>\n",
       "      <td>ZWE</td>\n",
       "      <td>1980</td>\n",
       "      <td>NaN</td>\n",
       "      <td>NaN</td>\n",
       "      <td>7.408630e+06</td>\n",
       "      <td>NaN</td>\n",
       "    </tr>\n",
       "  </tbody>\n",
       "</table>\n",
       "<p>244 rows × 7 columns</p>\n",
       "</div>"
      ],
      "text/plain": [
       "               Entity      Code  Year  \\\n",
       "219       Afghanistan       AFG  1980   \n",
       "477            Africa       NaN  1980   \n",
       "741           Albania       ALB  1980   \n",
       "1000          Algeria       DZA  1980   \n",
       "1038   American Samoa       ASM  1980   \n",
       "...               ...       ...   ...   \n",
       "55171  Western Sahara       ESH  1980   \n",
       "55460           World  OWID_WRL  1980   \n",
       "55691           Yemen       YEM  1980   \n",
       "55957          Zambia       ZMB  1980   \n",
       "56216        Zimbabwe       ZWE  1980   \n",
       "\n",
       "       Youth literacy rate, population 15-24 years, male (%)  \\\n",
       "219                                                  NaN       \n",
       "477                                                  NaN       \n",
       "741                                                  NaN       \n",
       "1000                                                 NaN       \n",
       "1038                                           97.888618       \n",
       "...                                                  ...       \n",
       "55171                                                NaN       \n",
       "55460                                                NaN       \n",
       "55691                                                NaN       \n",
       "55957                                                NaN       \n",
       "56216                                                NaN       \n",
       "\n",
       "       Youth literacy rate, population 15-24 years, female (%)  \\\n",
       "219                                                  NaN         \n",
       "477                                                  NaN         \n",
       "741                                                  NaN         \n",
       "1000                                                 NaN         \n",
       "1038                                           97.443649         \n",
       "...                                                  ...         \n",
       "55171                                                NaN         \n",
       "55460                                                NaN         \n",
       "55691                                                NaN         \n",
       "55957                                                NaN         \n",
       "56216                                                NaN         \n",
       "\n",
       "       Total population (Gapminder, HYDE & UN) Continent  \n",
       "219                               1.335650e+07       NaN  \n",
       "477                               4.763862e+08       NaN  \n",
       "741                               2.682697e+06       NaN  \n",
       "1000                              1.922166e+07       NaN  \n",
       "1038                              3.264800e+04       NaN  \n",
       "...                                        ...       ...  \n",
       "55171                             1.508600e+05       NaN  \n",
       "55460                             4.458275e+09       NaN  \n",
       "55691                             7.941903e+06       NaN  \n",
       "55957                             5.851818e+06       NaN  \n",
       "56216                             7.408630e+06       NaN  \n",
       "\n",
       "[244 rows x 7 columns]"
      ]
     },
     "execution_count": 123,
     "metadata": {},
     "output_type": "execute_result"
    }
   ],
   "source": [
    "filter_by_year = literacy_df[literacy_df[\"Year\"]==1980]\n",
    "filter_by_year"
   ]
  },
  {
   "cell_type": "markdown",
   "metadata": {},
   "source": [
    "# Group the female data by year "
   ]
  },
  {
   "cell_type": "code",
   "execution_count": 124,
   "metadata": {},
   "outputs": [
    {
     "data": {
      "text/plain": [
       "Year\n",
       "1979    45.026871\n",
       "1975    59.208149\n",
       "1976    62.695742\n",
       "1984    68.524131\n",
       "1988    69.231857\n",
       "          ...    \n",
       "2017          NaN\n",
       "2018          NaN\n",
       "2019          NaN\n",
       "2020          NaN\n",
       "2021          NaN\n",
       "Name: Youth literacy rate, population 15-24 years, female (%), Length: 259, dtype: float64"
      ]
     },
     "execution_count": 124,
     "metadata": {},
     "output_type": "execute_result"
    }
   ],
   "source": [
    "group_by_year_f = literacy_df.groupby(\"Year\")[\"Youth literacy rate, population 15-24 years, female (%)\"].mean().sort_values(ascending=True)\n",
    "group_by_year_f"
   ]
  },
  {
   "cell_type": "markdown",
   "metadata": {},
   "source": [
    "# What's the mean value for year 1980? What's the difference with 2000?\n",
    "- mean 1980 = 85.979322\n",
    "- mean 2000 = 82.30936"
   ]
  },
  {
   "cell_type": "markdown",
   "metadata": {},
   "source": [
    "# Group the male data by year"
   ]
  },
  {
   "cell_type": "code",
   "execution_count": 126,
   "metadata": {},
   "outputs": [
    {
     "data": {
      "text/plain": [
       "Year\n",
       "1979    65.682600\n",
       "1975    70.815209\n",
       "1976    75.574111\n",
       "1978    79.717470\n",
       "1988    81.270839\n",
       "          ...    \n",
       "2017          NaN\n",
       "2018          NaN\n",
       "2019          NaN\n",
       "2020          NaN\n",
       "2021          NaN\n",
       "Name: Youth literacy rate, population 15-24 years, male (%), Length: 259, dtype: float64"
      ]
     },
     "execution_count": 126,
     "metadata": {},
     "output_type": "execute_result"
    }
   ],
   "source": [
    "group_by_year_m = literacy_df.groupby(\"Year\")[\"Youth literacy rate, population 15-24 years, male (%)\"].mean().sort_values(ascending=True)\n",
    "group_by_year_m"
   ]
  },
  {
   "cell_type": "markdown",
   "metadata": {},
   "source": [
    "# What's the mean value for year 1980? What's the difference with 2000?\n",
    "- mean 1980 = 90.240170\n",
    "- mean 2000 = 88.327283"
   ]
  }
 ],
 "metadata": {
  "interpreter": {
   "hash": "5ee82e7ae166a6d6e67e0a91914df62a59c7fd349b07a260086a63fb18102c16"
  },
  "kernelspec": {
   "display_name": "Python 3.10.0 64-bit ('env': venv)",
   "language": "python",
   "name": "python3"
  },
  "language_info": {
   "codemirror_mode": {
    "name": "ipython",
    "version": 3
   },
   "file_extension": ".py",
   "mimetype": "text/x-python",
   "name": "python",
   "nbconvert_exporter": "python",
   "pygments_lexer": "ipython3",
   "version": "3.8.8"
  },
  "orig_nbformat": 4
 },
 "nbformat": 4,
 "nbformat_minor": 2
}
